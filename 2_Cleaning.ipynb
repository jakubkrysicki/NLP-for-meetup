{
 "cells": [
  {
   "cell_type": "code",
   "execution_count": 1,
   "metadata": {
    "collapsed": true
   },
   "outputs": [],
   "source": [
    "import pandas as pd"
   ]
  },
  {
   "cell_type": "code",
   "execution_count": 2,
   "metadata": {
    "collapsed": true
   },
   "outputs": [],
   "source": [
    "df = pd.read_pickle('test_dataset.pickle')"
   ]
  },
  {
   "cell_type": "code",
   "execution_count": 3,
   "metadata": {
    "collapsed": true
   },
   "outputs": [],
   "source": [
    "sentence = df.text[0]"
   ]
  },
  {
   "cell_type": "code",
   "execution_count": 4,
   "metadata": {
    "collapsed": false
   },
   "outputs": [
    {
     "data": {
      "text/plain": [
       "'I\\'m excited \"Run The Wicked Away\" it  is #7 in the Denmark iTunes Reggae Charts top 200 tracks! \\nAvailable now 99p… https://t.co/HwPEySV432'"
      ]
     },
     "execution_count": 4,
     "metadata": {},
     "output_type": "execute_result"
    }
   ],
   "source": [
    "sentence"
   ]
  },
  {
   "cell_type": "code",
   "execution_count": 5,
   "metadata": {
    "collapsed": true
   },
   "outputs": [],
   "source": [
    "from nltk.tokenize import TweetTokenizer\n",
    "\n",
    "tokens = TweetTokenizer().tokenize(sentence)"
   ]
  },
  {
   "cell_type": "code",
   "execution_count": 6,
   "metadata": {
    "collapsed": false
   },
   "outputs": [
    {
     "data": {
      "text/plain": [
       "[\"I'm\",\n",
       " 'excited',\n",
       " '\"',\n",
       " 'Run',\n",
       " 'The',\n",
       " 'Wicked',\n",
       " 'Away',\n",
       " '\"',\n",
       " 'it',\n",
       " 'is',\n",
       " '#',\n",
       " '7',\n",
       " 'in',\n",
       " 'the',\n",
       " 'Denmark',\n",
       " 'iTunes',\n",
       " 'Reggae',\n",
       " 'Charts',\n",
       " 'top',\n",
       " '200',\n",
       " 'tracks',\n",
       " '!',\n",
       " 'Available',\n",
       " 'now',\n",
       " '99p',\n",
       " '…',\n",
       " 'https://t.co/HwPEySV432']"
      ]
     },
     "execution_count": 6,
     "metadata": {},
     "output_type": "execute_result"
    }
   ],
   "source": [
    "tokens"
   ]
  },
  {
   "cell_type": "code",
   "execution_count": 7,
   "metadata": {
    "collapsed": true
   },
   "outputs": [],
   "source": [
    "# to lowercase\n",
    "\n",
    "txt = [i.lower() for i in tokens]"
   ]
  },
  {
   "cell_type": "code",
   "execution_count": 8,
   "metadata": {
    "collapsed": false
   },
   "outputs": [
    {
     "data": {
      "text/plain": [
       "[\"i'm\",\n",
       " 'excited',\n",
       " '\"',\n",
       " 'run',\n",
       " 'the',\n",
       " 'wicked',\n",
       " 'away',\n",
       " '\"',\n",
       " 'it',\n",
       " 'is',\n",
       " '#',\n",
       " '7',\n",
       " 'in',\n",
       " 'the',\n",
       " 'denmark',\n",
       " 'itunes',\n",
       " 'reggae',\n",
       " 'charts',\n",
       " 'top',\n",
       " '200',\n",
       " 'tracks',\n",
       " '!',\n",
       " 'available',\n",
       " 'now',\n",
       " '99p',\n",
       " '…',\n",
       " 'https://t.co/hwpeysv432']"
      ]
     },
     "execution_count": 8,
     "metadata": {},
     "output_type": "execute_result"
    }
   ],
   "source": [
    "txt"
   ]
  },
  {
   "cell_type": "code",
   "execution_count": 9,
   "metadata": {
    "collapsed": true
   },
   "outputs": [],
   "source": [
    "# usuwamy tzw. stopwords"
   ]
  },
  {
   "cell_type": "code",
   "execution_count": 10,
   "metadata": {
    "collapsed": true
   },
   "outputs": [],
   "source": [
    "from nltk.corpus import stopwords\n",
    "\n",
    "stopwords_vocabulary = stopwords.words('english')"
   ]
  },
  {
   "cell_type": "code",
   "execution_count": 11,
   "metadata": {
    "collapsed": true
   },
   "outputs": [],
   "source": [
    "txt = [i for i in txt if i not in stopwords_vocabulary]"
   ]
  },
  {
   "cell_type": "code",
   "execution_count": 23,
   "metadata": {
    "collapsed": true
   },
   "outputs": [],
   "source": [
    "# emoji (potrzebna dodatkowa funkcja)"
   ]
  },
  {
   "cell_type": "code",
   "execution_count": 12,
   "metadata": {
    "collapsed": false
   },
   "outputs": [
    {
     "data": {
      "text/plain": [
       "[\"i'm\",\n",
       " 'excited',\n",
       " '\"',\n",
       " 'run',\n",
       " 'wicked',\n",
       " 'away',\n",
       " '\"',\n",
       " '#',\n",
       " '7',\n",
       " 'denmark',\n",
       " 'itunes',\n",
       " 'reggae',\n",
       " 'charts',\n",
       " 'top',\n",
       " '200',\n",
       " 'tracks',\n",
       " '!',\n",
       " 'available',\n",
       " '99p',\n",
       " '…',\n",
       " 'https://t.co/hwpeysv432']"
      ]
     },
     "execution_count": 12,
     "metadata": {},
     "output_type": "execute_result"
    }
   ],
   "source": [
    "txt"
   ]
  },
  {
   "cell_type": "code",
   "execution_count": 13,
   "metadata": {
    "collapsed": true
   },
   "outputs": [],
   "source": [
    "# punctuation"
   ]
  },
  {
   "cell_type": "code",
   "execution_count": 14,
   "metadata": {
    "collapsed": true
   },
   "outputs": [],
   "source": [
    "import string\n",
    "\n",
    "punctuations = list(string.punctuation)"
   ]
  },
  {
   "cell_type": "code",
   "execution_count": 15,
   "metadata": {
    "collapsed": true
   },
   "outputs": [],
   "source": [
    "txt = [i.strip(''.join(punctuations)) for i in txt if i not in punctuations]"
   ]
  },
  {
   "cell_type": "code",
   "execution_count": 16,
   "metadata": {
    "collapsed": false
   },
   "outputs": [
    {
     "data": {
      "text/plain": [
       "[\"i'm\",\n",
       " 'excited',\n",
       " 'run',\n",
       " 'wicked',\n",
       " 'away',\n",
       " '7',\n",
       " 'denmark',\n",
       " 'itunes',\n",
       " 'reggae',\n",
       " 'charts',\n",
       " 'top',\n",
       " '200',\n",
       " 'tracks',\n",
       " 'available',\n",
       " '99p',\n",
       " '…',\n",
       " 'https://t.co/hwpeysv432']"
      ]
     },
     "execution_count": 16,
     "metadata": {},
     "output_type": "execute_result"
    }
   ],
   "source": [
    "txt"
   ]
  },
  {
   "cell_type": "code",
   "execution_count": 17,
   "metadata": {
    "collapsed": true
   },
   "outputs": [],
   "source": [
    "def emoji_handle(word):\n",
    "\t\n",
    "\tif \"\\\\\" in str(word.encode()):\n",
    "\t\tword = str(word.encode())\n",
    "\t\tword = word.split(\"'\")[1]\n",
    "\t\tword = word.split(\"\\\\\")[0]\n",
    "\n",
    "\treturn word"
   ]
  },
  {
   "cell_type": "code",
   "execution_count": 18,
   "metadata": {
    "collapsed": true
   },
   "outputs": [],
   "source": [
    "txt = [emoji_handle(i) for i in txt]"
   ]
  },
  {
   "cell_type": "code",
   "execution_count": 19,
   "metadata": {
    "collapsed": false
   },
   "outputs": [
    {
     "data": {
      "text/plain": [
       "[\"i'm\",\n",
       " 'excited',\n",
       " 'run',\n",
       " 'wicked',\n",
       " 'away',\n",
       " '7',\n",
       " 'denmark',\n",
       " 'itunes',\n",
       " 'reggae',\n",
       " 'charts',\n",
       " 'top',\n",
       " '200',\n",
       " 'tracks',\n",
       " 'available',\n",
       " '99p',\n",
       " '',\n",
       " 'https://t.co/hwpeysv432']"
      ]
     },
     "execution_count": 19,
     "metadata": {},
     "output_type": "execute_result"
    }
   ],
   "source": [
    "txt"
   ]
  },
  {
   "cell_type": "code",
   "execution_count": 20,
   "metadata": {
    "collapsed": true
   },
   "outputs": [],
   "source": [
    "# numbers"
   ]
  },
  {
   "cell_type": "code",
   "execution_count": 21,
   "metadata": {
    "collapsed": true
   },
   "outputs": [],
   "source": [
    "txt = [i for i in txt if not i.isdigit()]"
   ]
  },
  {
   "cell_type": "code",
   "execution_count": 22,
   "metadata": {
    "collapsed": false
   },
   "outputs": [
    {
     "data": {
      "text/plain": [
       "[\"i'm\",\n",
       " 'excited',\n",
       " 'run',\n",
       " 'wicked',\n",
       " 'away',\n",
       " 'denmark',\n",
       " 'itunes',\n",
       " 'reggae',\n",
       " 'charts',\n",
       " 'top',\n",
       " 'tracks',\n",
       " 'available',\n",
       " '99p',\n",
       " '',\n",
       " 'https://t.co/hwpeysv432']"
      ]
     },
     "execution_count": 22,
     "metadata": {},
     "output_type": "execute_result"
    }
   ],
   "source": [
    "txt"
   ]
  },
  {
   "cell_type": "code",
   "execution_count": 24,
   "metadata": {
    "collapsed": true
   },
   "outputs": [],
   "source": [
    "# krótkie słowa"
   ]
  },
  {
   "cell_type": "code",
   "execution_count": 25,
   "metadata": {
    "collapsed": true
   },
   "outputs": [],
   "source": [
    "txt = [i for i in txt if len(i) > 1]"
   ]
  },
  {
   "cell_type": "code",
   "execution_count": 26,
   "metadata": {
    "collapsed": false
   },
   "outputs": [
    {
     "data": {
      "text/plain": [
       "[\"i'm\",\n",
       " 'excited',\n",
       " 'run',\n",
       " 'wicked',\n",
       " 'away',\n",
       " 'denmark',\n",
       " 'itunes',\n",
       " 'reggae',\n",
       " 'charts',\n",
       " 'top',\n",
       " 'tracks',\n",
       " 'available',\n",
       " '99p',\n",
       " 'https://t.co/hwpeysv432']"
      ]
     },
     "execution_count": 26,
     "metadata": {},
     "output_type": "execute_result"
    }
   ],
   "source": [
    "txt"
   ]
  },
  {
   "cell_type": "code",
   "execution_count": 27,
   "metadata": {
    "collapsed": true
   },
   "outputs": [],
   "source": [
    "# custom cleaning"
   ]
  },
  {
   "cell_type": "code",
   "execution_count": 28,
   "metadata": {
    "collapsed": true
   },
   "outputs": [],
   "source": [
    "def starting_handle(word, start_vocabulary):\n",
    "\n",
    "\treturn any(list(filter(lambda x: word.startswith(x), start_vocabulary)))"
   ]
  },
  {
   "cell_type": "code",
   "execution_count": 29,
   "metadata": {
    "collapsed": true
   },
   "outputs": [],
   "source": [
    "start_vocabulary = ['http']\n",
    "\n",
    "txt = [i for i in txt if not starting_handle(i, start_vocabulary)]"
   ]
  },
  {
   "cell_type": "code",
   "execution_count": 30,
   "metadata": {
    "collapsed": false
   },
   "outputs": [
    {
     "data": {
      "text/plain": [
       "[\"i'm\",\n",
       " 'excited',\n",
       " 'run',\n",
       " 'wicked',\n",
       " 'away',\n",
       " 'denmark',\n",
       " 'itunes',\n",
       " 'reggae',\n",
       " 'charts',\n",
       " 'top',\n",
       " 'tracks',\n",
       " 'available',\n",
       " '99p']"
      ]
     },
     "execution_count": 30,
     "metadata": {},
     "output_type": "execute_result"
    }
   ],
   "source": [
    "txt"
   ]
  },
  {
   "cell_type": "code",
   "execution_count": 31,
   "metadata": {
    "collapsed": true
   },
   "outputs": [],
   "source": [
    "# przed czyszczeniem"
   ]
  },
  {
   "cell_type": "code",
   "execution_count": 32,
   "metadata": {
    "collapsed": false
   },
   "outputs": [
    {
     "data": {
      "text/plain": [
       "'I\\'m excited \"Run The Wicked Away\" it  is #7 in the Denmark iTunes Reggae Charts top 200 tracks! \\nAvailable now 99p… https://t.co/HwPEySV432'"
      ]
     },
     "execution_count": 32,
     "metadata": {},
     "output_type": "execute_result"
    }
   ],
   "source": [
    "sentence"
   ]
  },
  {
   "cell_type": "code",
   "execution_count": 33,
   "metadata": {
    "collapsed": true
   },
   "outputs": [],
   "source": [
    "# po czyszczeniu"
   ]
  },
  {
   "cell_type": "code",
   "execution_count": 34,
   "metadata": {
    "collapsed": false
   },
   "outputs": [
    {
     "data": {
      "text/plain": [
       "\"i'm excited run wicked away denmark itunes reggae charts top tracks available 99p\""
      ]
     },
     "execution_count": 34,
     "metadata": {},
     "output_type": "execute_result"
    }
   ],
   "source": [
    "\" \".join(txt)"
   ]
  },
  {
   "cell_type": "code",
   "execution_count": null,
   "metadata": {
    "collapsed": true
   },
   "outputs": [],
   "source": []
  },
  {
   "cell_type": "code",
   "execution_count": null,
   "metadata": {
    "collapsed": true
   },
   "outputs": [],
   "source": []
  },
  {
   "cell_type": "code",
   "execution_count": null,
   "metadata": {
    "collapsed": true
   },
   "outputs": [],
   "source": []
  },
  {
   "cell_type": "code",
   "execution_count": null,
   "metadata": {
    "collapsed": true
   },
   "outputs": [],
   "source": []
  }
 ],
 "metadata": {
  "kernelspec": {
   "display_name": "Python 3",
   "language": "python",
   "name": "python3"
  },
  "language_info": {
   "codemirror_mode": {
    "name": "ipython",
    "version": 3
   },
   "file_extension": ".py",
   "mimetype": "text/x-python",
   "name": "python",
   "nbconvert_exporter": "python",
   "pygments_lexer": "ipython3",
   "version": "3.5.2"
  }
 },
 "nbformat": 4,
 "nbformat_minor": 1
}
