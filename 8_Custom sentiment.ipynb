{
 "cells": [
  {
   "cell_type": "code",
   "execution_count": 5,
   "metadata": {
    "collapsed": true
   },
   "outputs": [],
   "source": [
    "from sklearn.feature_extraction.text import TfidfVectorizer\n",
    "from sklearn import svm\n",
    "from sklearn.linear_model import LogisticRegression\n",
    "\n",
    "from sklearn.metrics import classification_report, confusion_matrix, accuracy_score\n",
    "from sklearn.model_selection import cross_val_predict"
   ]
  },
  {
   "cell_type": "code",
   "execution_count": 6,
   "metadata": {
    "collapsed": false
   },
   "outputs": [],
   "source": [
    "import os\n",
    "\n",
    "data_dir = './review_polarity/txt_sentoken/'\n",
    "\n",
    "classes = ['pos', 'neg']\n",
    "\n",
    "### Read the data\n",
    "\n",
    "train_data = []\n",
    "train_labels = []\n",
    "test_data = []\n",
    "test_labels = []\n",
    "\n",
    "for curr_class in classes:\n",
    "\tdirname = os.path.join(data_dir, curr_class)\n",
    "\tfor fname in os.listdir(dirname):\n",
    "\t    with open(os.path.join(dirname, fname), 'r') as f:\n",
    "\t        content = f.read()\n",
    "\t        if fname.startswith('cv9'):\n",
    "\t            test_data.append(content)\n",
    "\t            test_labels.append(curr_class)\n",
    "\t        else:\n",
    "\t            train_data.append(content)\n",
    "\t            train_labels.append(curr_class)"
   ]
  },
  {
   "cell_type": "code",
   "execution_count": 7,
   "metadata": {
    "collapsed": true
   },
   "outputs": [],
   "source": [
    "### Create feature vectors\n",
    "\n",
    "vectorizer = TfidfVectorizer(min_df=5,\n",
    "                             max_df = 0.8,\n",
    "                             sublinear_tf=True,\n",
    "                             use_idf=True)"
   ]
  },
  {
   "cell_type": "code",
   "execution_count": 8,
   "metadata": {
    "collapsed": true
   },
   "outputs": [],
   "source": [
    "train_vectors = vectorizer.fit_transform(train_data)\n",
    "test_vectors = vectorizer.transform(test_data)"
   ]
  },
  {
   "cell_type": "code",
   "execution_count": 9,
   "metadata": {
    "collapsed": true
   },
   "outputs": [],
   "source": [
    "### Perform  a logistic regression model, and fit with X and y\n",
    "\n",
    "reg_log = LogisticRegression()\n",
    "\n",
    "reg_log.fit(train_vectors, train_labels).score(test_vectors, test_labels)\n",
    "\n",
    "prediction_reg_log = reg_log.predict(test_vectors)"
   ]
  },
  {
   "cell_type": "code",
   "execution_count": 10,
   "metadata": {
    "collapsed": false
   },
   "outputs": [
    {
     "name": "stdout",
     "output_type": "stream",
     "text": [
      "             precision    recall  f1-score   support\n",
      "\n",
      "        neg       0.89      0.90      0.90       100\n",
      "        pos       0.90      0.89      0.89       100\n",
      "\n",
      "avg / total       0.90      0.90      0.89       200\n",
      "\n"
     ]
    }
   ],
   "source": [
    "print(classification_report(test_labels, prediction_reg_log)) "
   ]
  },
  {
   "cell_type": "code",
   "execution_count": 11,
   "metadata": {
    "collapsed": false
   },
   "outputs": [
    {
     "name": "stdout",
     "output_type": "stream",
     "text": [
      "[[90 10]\n",
      " [11 89]]\n"
     ]
    }
   ],
   "source": [
    "print(confusion_matrix(test_labels, reg_log.predict(test_vectors)))"
   ]
  },
  {
   "cell_type": "code",
   "execution_count": 12,
   "metadata": {
    "collapsed": false
   },
   "outputs": [
    {
     "name": "stdout",
     "output_type": "stream",
     "text": [
      "Cross validation 0.863333333333\n"
     ]
    }
   ],
   "source": [
    "predicted = cross_val_predict(reg_log, train_vectors, train_labels, cv=10)\n",
    "print(\"Cross validation %s\" % accuracy_score(train_labels, predicted))"
   ]
  },
  {
   "cell_type": "code",
   "execution_count": 13,
   "metadata": {
    "collapsed": true
   },
   "outputs": [],
   "source": [
    "sent = \"I love this ugly dog with bad apearance\""
   ]
  },
  {
   "cell_type": "code",
   "execution_count": 14,
   "metadata": {
    "collapsed": false
   },
   "outputs": [],
   "source": [
    "# vectorize the sentence\n",
    "\n",
    "sent = vectorizer.transform([sent])"
   ]
  },
  {
   "cell_type": "code",
   "execution_count": 15,
   "metadata": {
    "collapsed": false
   },
   "outputs": [
    {
     "data": {
      "text/plain": [
       "array(['neg'], \n",
       "      dtype='<U3')"
      ]
     },
     "execution_count": 15,
     "metadata": {},
     "output_type": "execute_result"
    }
   ],
   "source": [
    "reg_log.predict(sent)"
   ]
  },
  {
   "cell_type": "code",
   "execution_count": null,
   "metadata": {
    "collapsed": true
   },
   "outputs": [],
   "source": []
  }
 ],
 "metadata": {
  "kernelspec": {
   "display_name": "Python 3",
   "language": "python",
   "name": "python3"
  },
  "language_info": {
   "codemirror_mode": {
    "name": "ipython",
    "version": 3
   },
   "file_extension": ".py",
   "mimetype": "text/x-python",
   "name": "python",
   "nbconvert_exporter": "python",
   "pygments_lexer": "ipython3",
   "version": "3.5.2"
  }
 },
 "nbformat": 4,
 "nbformat_minor": 1
}
